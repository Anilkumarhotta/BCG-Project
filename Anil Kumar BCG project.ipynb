{
 "cells": [
  {
   "cell_type": "code",
   "execution_count": null,
   "id": "e8257e21",
   "metadata": {},
   "outputs": [],
   "source": [
    "import pandas as pd\n",
    "import numpy as np\n",
    "pd.set_option('display.max_columns', 50)\n",
    "\n",
    "import matplotlib.pyplot as plt\n",
    "import seaborn as sns\n",
    "\n",
    "from sklearn.preprocessing import LabelEncoder"
   ]
  },
  {
   "cell_type": "markdown",
   "id": "8f0b08c3",
   "metadata": {},
   "source": [
    "# Task 2"
   ]
  },
  {
   "cell_type": "markdown",
   "id": "009acf25",
   "metadata": {},
   "source": [
    "# sub task 1"
   ]
  },
  {
   "cell_type": "code",
   "execution_count": null,
   "id": "a8479020",
   "metadata": {},
   "outputs": [],
   "source": [
    "client = pd.read_csv('client_data.csv')\n",
    "client.head(3)"
   ]
  },
  {
   "cell_type": "code",
   "execution_count": null,
   "id": "e5c6e0cb",
   "metadata": {},
   "outputs": [],
   "source": [
    "client.info()"
   ]
  },
  {
   "cell_type": "code",
   "execution_count": null,
   "id": "94db009e",
   "metadata": {},
   "outputs": [],
   "source": [
    "client.info()"
   ]
  },
  {
   "cell_type": "code",
   "execution_count": null,
   "id": "ca87344c",
   "metadata": {},
   "outputs": [],
   "source": [
    "for f in ['date_activ','date_end','date_modif_prod','date_renewal']:\n",
    "    client[f] = pd.to_datetime(client[f])"
   ]
  },
  {
   "cell_type": "code",
   "execution_count": null,
   "id": "bd3cc7fe",
   "metadata": {},
   "outputs": [],
   "source": [
    "client['contract_start_year'] = client['date_activ'].dt.year"
   ]
  },
  {
   "cell_type": "code",
   "execution_count": null,
   "id": "82edeb56",
   "metadata": {},
   "outputs": [],
   "source": [
    "client['contract_end_year'] = client['date_end'].dt.year"
   ]
  },
  {
   "cell_type": "code",
   "execution_count": null,
   "id": "1bea044a",
   "metadata": {},
   "outputs": [],
   "source": []
  },
  {
   "cell_type": "code",
   "execution_count": null,
   "id": "daa45629",
   "metadata": {},
   "outputs": [],
   "source": [
    "def duplicate_and_missing(dataset, dataset_name):  \n",
    "    print('There are', dataset.shape[0], 'rows and', dataset.shape[1], 'columns in the dataset', '\"'+dataset_name+'\"','\\n'+'--'*40)\n",
    "    # display missing values\n",
    "    if dataset.isna().sum().sum()!=0:  # if there is missing values\n",
    "        missing_value = dataset.isna().sum()[dataset.isna().sum()!=0].to_frame(name='count')\n",
    "        missing_value['proportion'] = missing_value['count']/len(dataset)\n",
    "        print('There are', dataset.isna().sum().sum(), 'missing values')\n",
    "        print(missing_value, '\\n'+'--'*40)\n",
    "    else:\n",
    "        print('There is no missing value')\n",
    "    # display duplicate rows\n",
    "    if dataset.duplicated().sum()!=0:\n",
    "        print('There are', dataset.duplicated().sum(), 'duplicate rows\\n')\n",
    "    else:\n",
    "        print('There is no duplicate row\\n')"
   ]
  },
  {
   "cell_type": "code",
   "execution_count": null,
   "id": "da44a454",
   "metadata": {},
   "outputs": [],
   "source": [
    "duplicate_and_missing(dataset=client, dataset_name='Client')"
   ]
  },
  {
   "cell_type": "code",
   "execution_count": null,
   "id": "173b5e59",
   "metadata": {},
   "outputs": [],
   "source": [
    "def describe_categorical(dataset):\n",
    "    cat_columns = dataset.dtypes[dataset.dtypes=='object'].index.tolist()\n",
    "    if len(cat_columns)!=0:\n",
    "        print('Categorical variables are', cat_columns,'\\n'+'=='*40)\n",
    "        for cat in cat_columns:\n",
    "            describe_frame = dataset[[cat]].value_counts().reset_index(name='count')\n",
    "            describe_frame['proportion'] = describe_frame['count']/len(dataset)\n",
    "            print(describe_frame,'\\n'+'--'*40)    # display value count and proportion of a categorical feature\n",
    "    else:\n",
    "        print('There is no categorical variables in the dataset')"
   ]
  },
  {
   "cell_type": "code",
   "execution_count": null,
   "id": "b1d7ee29",
   "metadata": {},
   "outputs": [],
   "source": [
    "describe_categorical(dataset=client)"
   ]
  },
  {
   "cell_type": "code",
   "execution_count": null,
   "id": "980535b9",
   "metadata": {},
   "outputs": [],
   "source": [
    "channel_encoder = LabelEncoder()\n",
    "client['channel_sales'] = channel_encoder.fit_transform(client['channel_sales'])\n",
    "origin_encoder = LabelEncoder()\n",
    "client['origin_up'] = origin_encoder.fit_transform(client['origin_up'])"
   ]
  },
  {
   "cell_type": "code",
   "execution_count": null,
   "id": "da735781",
   "metadata": {},
   "outputs": [],
   "source": []
  },
  {
   "cell_type": "code",
   "execution_count": null,
   "id": "58285995",
   "metadata": {},
   "outputs": [],
   "source": [
    "# dataset: a pandas dataframe;\n",
    "def describe_numeric(dataset):\n",
    "    # for numeric columns whose values are discrete, display values and their frequency\n",
    "    int_columns = dataset.dtypes[dataset.dtypes=='int'].index.tolist()\n",
    "    # for numeric columns whose values are continuous, plot their value distribution\n",
    "    float_columns = dataset.dtypes[dataset.dtypes=='float'].index.tolist()\n",
    "    if len(int_columns)+len(float_columns)!=0:\n",
    "        print('Numeric variables are', int_columns+float_columns,'\\n'+'=='*40)\n",
    "        # integer numeric feature\n",
    "        if len(int_columns)!=0:    \n",
    "            for cat in int_columns:\n",
    "                describe_frame = dataset[[cat]].value_counts().reset_index(name='count')\n",
    "                describe_frame['proportion'] = describe_frame['count']/len(dataset)\n",
    "                print(describe_frame,'\\n'+'--'*40)    # display value count and proportion of a categorical feature\n",
    "        # \n",
    "        print(dataset[int_columns + float_columns].describe().loc[['min','max','mean','50%']].T.rename(columns={'50%':'median'}), '\\n'+'--'*40)\n",
    "    else:\n",
    "        print('There is no numeric variables in the dataset')"
   ]
  },
  {
   "cell_type": "code",
   "execution_count": null,
   "id": "83c4b011",
   "metadata": {},
   "outputs": [],
   "source": [
    "describe_numeric(dataset=client)"
   ]
  },
  {
   "cell_type": "code",
   "execution_count": null,
   "id": "64264be9",
   "metadata": {},
   "outputs": [],
   "source": [
    "client[client.dtypes[client.dtypes=='datetime64[ns]'].index.tolist()].describe(datetime_is_numeric=True)"
   ]
  },
  {
   "cell_type": "code",
   "execution_count": null,
   "id": "850b14cf",
   "metadata": {},
   "outputs": [],
   "source": [
    "price = pd.read_csv('price_data.csv')\n",
    "price.head(3)"
   ]
  },
  {
   "cell_type": "code",
   "execution_count": null,
   "id": "3ad271a6",
   "metadata": {},
   "outputs": [],
   "source": [
    "price.info()"
   ]
  },
  {
   "cell_type": "code",
   "execution_count": null,
   "id": "96b42e3d",
   "metadata": {},
   "outputs": [],
   "source": [
    "price['price_date'] = pd.to_datetime(price['price_date'])"
   ]
  },
  {
   "cell_type": "code",
   "execution_count": null,
   "id": "04f705e4",
   "metadata": {},
   "outputs": [],
   "source": [
    "duplicate_and_missing(dataset=price, dataset_name='Client')"
   ]
  },
  {
   "cell_type": "code",
   "execution_count": null,
   "id": "b6bfa2e0",
   "metadata": {},
   "outputs": [],
   "source": [
    "describe_categorical(dataset=price)"
   ]
  },
  {
   "cell_type": "code",
   "execution_count": null,
   "id": "fa04e6ec",
   "metadata": {},
   "outputs": [],
   "source": [
    "describe_numeric(dataset=price)"
   ]
  },
  {
   "cell_type": "code",
   "execution_count": null,
   "id": "ea07276c",
   "metadata": {},
   "outputs": [],
   "source": [
    "price['price_date'].describe(datetime_is_numeric=True)"
   ]
  },
  {
   "cell_type": "code",
   "execution_count": null,
   "id": "17cf10b4",
   "metadata": {},
   "outputs": [],
   "source": [
    "# define a function to plot bar chart to display a feature's distribution with percent labels.\n",
    "def plot_bar_chart_with_percent_label(df, target_variable, if_sort=False, gap_label_bar=0, figsize=(9,6)):\n",
    "    # prepare data\n",
    "    plot_data = client[[target_variable]].value_counts().reset_index(name='count')\n",
    "    plot_data['percent'] = plot_data['count']/plot_data['count'].sum()\n",
    "    if if_sort:\n",
    "        x_order = plot_data.sort_values(by=['percent'], ascending=False)[target_variable]\n",
    "    else:\n",
    "        x_order = plot_data.sort_values(by=[target_variable], ascending=True)[target_variable]\n",
    "    # plot\n",
    "    fig = plt.figure(figsize=figsize)\n",
    "    ax = sns.barplot(data=plot_data, x=target_variable, y='percent', order=x_order)\n",
    "    # add label\n",
    "    for p in ax.patches:\n",
    "        x = p.get_x() + p.get_width()/2\n",
    "        y = p.get_height() + gap_label_bar\n",
    "        ax.annotate(text='{:.2f}%'.format(p.get_height()*100), xy=(x, y), ha='center')\n",
    "    ax.margins(y=0.1)\n",
    "\n",
    "# plot stacked bar chart with percent label by churn\n",
    "def plot_stacked_bar_with_percent_label_by_churn(df, target_variable, if_sort=False, figsize=(9,6)):\n",
    "    plot_data = df.groupby([target_variable,'churn']).size().reset_index(name='count')\n",
    "    plot_data = plot_data.pivot(index=target_variable, columns='churn', values='count').fillna(0)\n",
    "    plot_data = plot_data.div(plot_data.sum(axis=1), axis=0)\n",
    "    if if_sort:\n",
    "        plot_data = plot_data.sort_values(by=[0])\n",
    "    ax = plot_data.plot(kind='bar', rot=False, stacked=True, figsize=figsize)\n",
    "    plt.legend(['stay', 'switch'], loc='upper center', ncol=2)\n",
    "    # add label\n",
    "    for p in ax.patches:\n",
    "        percentage = '{:.1f}%'.format(p.get_height()*100)\n",
    "        if percentage!='0.0%':\n",
    "            x = p.get_x() + p.get_width()/2\n",
    "            y = 1 - p.get_height()/1.8\n",
    "            ax.annotate(text=percentage, xy=(x, y), ha='center')\n",
    "    ax.margins(y=0.1)"
   ]
  },
  {
   "cell_type": "code",
   "execution_count": null,
   "id": "2734aa0b",
   "metadata": {},
   "outputs": [],
   "source": [
    "plot_bar_chart_with_percent_label(df=client, target_variable='churn', gap_label_bar=0.02)"
   ]
  },
  {
   "cell_type": "code",
   "execution_count": null,
   "id": "3af4c307",
   "metadata": {},
   "outputs": [],
   "source": [
    "plot_bar_chart_with_percent_label(df=client, target_variable='channel_sales', if_sort=True, gap_label_bar=0.01)"
   ]
  },
  {
   "cell_type": "code",
   "execution_count": null,
   "id": "f645e8cf",
   "metadata": {},
   "outputs": [],
   "source": [
    "plot_bar_chart_with_percent_label(df=client, target_variable='origin_up', if_sort=True, gap_label_bar=0.01)"
   ]
  },
  {
   "cell_type": "code",
   "execution_count": null,
   "id": "d5f462fd",
   "metadata": {},
   "outputs": [],
   "source": [
    "plot_stacked_bar_with_percent_label_by_churn(df=client, target_variable='channel_sales', if_sort=True)"
   ]
  },
  {
   "cell_type": "code",
   "execution_count": null,
   "id": "8e80e6af",
   "metadata": {},
   "outputs": [],
   "source": [
    "plot_stacked_bar_with_percent_label_by_churn(df=client, target_variable='origin_up', if_sort=True)"
   ]
  },
  {
   "cell_type": "code",
   "execution_count": null,
   "id": "05ac4e99",
   "metadata": {},
   "outputs": [],
   "source": [
    "plot_bar_chart_with_percent_label(df=client, target_variable='contract_start_year', if_sort=False, gap_label_bar=0.005, figsize=(12,6))"
   ]
  },
  {
   "cell_type": "code",
   "execution_count": null,
   "id": "b37f4f1c",
   "metadata": {},
   "outputs": [],
   "source": [
    "plot_stacked_bar_with_percent_label_by_churn(df=client, target_variable='contract_start_year', if_sort=False, figsize=(15,6))"
   ]
  },
  {
   "cell_type": "code",
   "execution_count": null,
   "id": "ddb07741",
   "metadata": {},
   "outputs": [],
   "source": [
    "plot_bar_chart_with_percent_label(df=client, target_variable='num_years_antig', if_sort=False, gap_label_bar=0.005, figsize=(12,6))"
   ]
  },
  {
   "cell_type": "code",
   "execution_count": null,
   "id": "c99794f1",
   "metadata": {},
   "outputs": [],
   "source": [
    "plot_stacked_bar_with_percent_label_by_churn(df=client, target_variable='num_years_antig', if_sort=False, figsize=(15,6))"
   ]
  },
  {
   "cell_type": "code",
   "execution_count": null,
   "id": "24e3a6e9",
   "metadata": {},
   "outputs": [],
   "source": [
    "plot_bar_chart_with_percent_label(df=client, target_variable='forecast_discount_energy', if_sort=False, gap_label_bar=0.01, figsize=(12,6))"
   ]
  },
  {
   "cell_type": "code",
   "execution_count": null,
   "id": "768655d2",
   "metadata": {},
   "outputs": [],
   "source": [
    "plot_bar_chart_with_percent_label(df=client, target_variable='has_gas', if_sort=False, gap_label_bar=0.01, figsize=(8,6))"
   ]
  },
  {
   "cell_type": "code",
   "execution_count": null,
   "id": "c6a9bb2c",
   "metadata": {},
   "outputs": [],
   "source": [
    "plot_stacked_bar_with_percent_label_by_churn(df=client, target_variable='has_gas', if_sort=False, figsize=(8,6))"
   ]
  },
  {
   "cell_type": "code",
   "execution_count": null,
   "id": "9cb50af5",
   "metadata": {},
   "outputs": [],
   "source": [
    "plot_bar_chart_with_percent_label(df=client, target_variable='nb_prod_act', if_sort=False, gap_label_bar=0.01, figsize=(8,6))"
   ]
  },
  {
   "cell_type": "code",
   "execution_count": null,
   "id": "4ffc68f4",
   "metadata": {},
   "outputs": [],
   "source": [
    "# plot histogram\n",
    "def plot_histogram_by_churn(df, target_variable, figsize=(20,5), bins=100, if_churn=True):\n",
    "    fig = plt.figure(figsize=figsize)\n",
    "    if if_churn:\n",
    "        ax = sns.histplot(data=df, x=target_variable, bins=bins, hue='churn')\n",
    "    else:\n",
    "        ax = sns.histplot(data=df, x=target_variable, bins=bins)"
   ]
  },
  {
   "cell_type": "code",
   "execution_count": null,
   "id": "8cbe2689",
   "metadata": {},
   "outputs": [],
   "source": [
    "for attr in ['cons_12m', 'cons_gas_12m', 'cons_last_month','forecast_cons_12m', 'forecast_cons_year']:\n",
    "    plot_histogram_by_churn(df=client, target_variable=attr)"
   ]
  },
  {
   "cell_type": "code",
   "execution_count": null,
   "id": "6623496c",
   "metadata": {},
   "outputs": [],
   "source": [
    "price['id'].value_counts().value_counts()"
   ]
  },
  {
   "cell_type": "code",
   "execution_count": null,
   "id": "adf9de69",
   "metadata": {},
   "outputs": [],
   "source": [
    "price['price_date'].value_counts()\n"
   ]
  },
  {
   "cell_type": "code",
   "execution_count": null,
   "id": "95f2010e",
   "metadata": {},
   "outputs": [],
   "source": [
    "for attr in ['forecast_meter_rent_12m', 'forecast_price_energy_off_peak', 'forecast_price_energy_peak', 'forecast_price_pow_off_peak',]:\n",
    "    plot_histogram_by_churn(df=client, target_variable=attr)"
   ]
  },
  {
   "cell_type": "code",
   "execution_count": null,
   "id": "bf25466b",
   "metadata": {},
   "outputs": [],
   "source": [
    "for attr in ['imp_cons', 'margin_gross_pow_ele', 'margin_net_pow_ele','net_margin','pow_max',]:\n",
    "    plot_histogram_by_churn(df=client, target_variable=attr)"
   ]
  },
  {
   "cell_type": "code",
   "execution_count": null,
   "id": "b0eb4aa4",
   "metadata": {},
   "outputs": [],
   "source": [
    "for attr in ['price_off_peak_var', 'price_peak_var', 'price_mid_peak_var', 'price_off_peak_fix', 'price_peak_fix', 'price_mid_peak_fix']:\n",
    "    plot_histogram_by_churn(df=price, target_variable=attr, if_churn=False)"
   ]
  },
  {
   "cell_type": "code",
   "execution_count": null,
   "id": "e76f82c5",
   "metadata": {},
   "outputs": [],
   "source": []
  },
  {
   "cell_type": "markdown",
   "id": "5d63751d",
   "metadata": {},
   "source": [
    "# sub task 2"
   ]
  },
  {
   "cell_type": "code",
   "execution_count": null,
   "id": "7589d721",
   "metadata": {},
   "outputs": [],
   "source": [
    "stat_ = ['max', 'min', 'mean']\n",
    "price_attr = ['price_off_peak_var','price_peak_var','price_mid_peak_var','price_off_peak_fix','price_peak_fix','price_mid_peak_fix']\n",
    "price_stat = price.drop(columns=['price_date']).groupby(['id']).agg({'price_off_peak_var': stat_, 'price_peak_var': stat_, 'price_mid_peak_var': stat_,\n",
    "                                                      'price_off_peak_fix': stat_, 'price_peak_fix': stat_, 'price_mid_peak_fix': stat_,})\n",
    "# flatten the column names\n",
    "price_stat.columns = ['_'.join(x) for x in zip(price_stat.columns.get_level_values(0), price_stat.columns.get_level_values(1))]\n",
    "price_stat = price_stat.reset_index()\n",
    "price_stat.head(3)"
   ]
  },
  {
   "cell_type": "code",
   "execution_count": null,
   "id": "a6c9bd6b",
   "metadata": {},
   "outputs": [],
   "source": [
    "# add churn values\n",
    "price_stat = price_stat.merge(client[['id','churn']], on=['id'], how='left')\n",
    "# drop ids that are not inclued in the price dataset \n",
    "price_stat = price_stat.dropna(subset=['churn']).reset_index(drop=True)\n",
    "price_stat.head(3)"
   ]
  },
  {
   "cell_type": "code",
   "execution_count": null,
   "id": "15872403",
   "metadata": {},
   "outputs": [],
   "source": [
    "for attr in price_attr:\n",
    "    price_stat[f'diff_max_min_{attr}'] = price_stat[f'{attr}_max'] - price_stat[f'{attr}_min']\n",
    "#\n",
    "price_stat.head(3)"
   ]
  },
  {
   "cell_type": "code",
   "execution_count": null,
   "id": "a9b2c1f9",
   "metadata": {},
   "outputs": [],
   "source": [
    "for attr in price_attr:\n",
    "    plot_histogram_by_churn(df=price_stat, target_variable=f'diff_max_min_{attr}', if_churn=True)"
   ]
  },
  {
   "cell_type": "code",
   "execution_count": null,
   "id": "68ba1704",
   "metadata": {},
   "outputs": [],
   "source": [
    "# add diff\n",
    "for attr in price_attr:\n",
    "    price_stat[f'diff_Dec_mean_{attr}'] = price[price['id'].isin(price_stat['id'])].groupby(['id'])[attr].nth(-1).values - price_stat[f'{attr}_mean']\n",
    "#\n",
    "price_stat.head(3)"
   ]
  },
  {
   "cell_type": "code",
   "execution_count": null,
   "id": "b365942b",
   "metadata": {},
   "outputs": [],
   "source": [
    " for attr in price_attr:\n",
    "    plot_histogram_by_churn(df=price_stat, target_variable=f'diff_Dec_mean_{attr}', if_churn=True)"
   ]
  },
  {
   "cell_type": "code",
   "execution_count": null,
   "id": "30294cbe",
   "metadata": {},
   "outputs": [],
   "source": [
    "plot_bar_chart_with_percent_label(df=price_stat[price_stat['diff_Dec_mean_price_off_peak_var']>0], target_variable='churn', gap_label_bar=0.02)"
   ]
  },
  {
   "cell_type": "code",
   "execution_count": null,
   "id": "c7a6b3a8",
   "metadata": {},
   "outputs": [],
   "source": [
    "plot_bar_chart_with_percent_label(df=price_stat[price_stat['diff_Dec_mean_price_off_peak_var']<=0], target_variable='churn', gap_label_bar=0.02)"
   ]
  },
  {
   "cell_type": "code",
   "execution_count": null,
   "id": "2818b989",
   "metadata": {},
   "outputs": [],
   "source": [
    "plot_bar_chart_with_percent_label(df=price_stat[price_stat['diff_Dec_mean_price_off_peak_fix']>0], target_variable='churn', gap_label_bar=0.02)"
   ]
  },
  {
   "cell_type": "code",
   "execution_count": null,
   "id": "149c364b",
   "metadata": {},
   "outputs": [],
   "source": [
    "plot_bar_chart_with_percent_label(df=price_stat[price_stat['diff_Dec_mean_price_off_peak_fix']<=0], target_variable='churn', gap_label_bar=0.02)"
   ]
  },
  {
   "cell_type": "code",
   "execution_count": null,
   "id": "28d657ff",
   "metadata": {},
   "outputs": [],
   "source": [
    "price_stat_6_month = price[price['price_date']>'2015-06-01'].drop(columns=['price_date']).groupby(['id']).agg({'price_off_peak_var': stat_, 'price_off_peak_fix': stat_,})\n",
    "# flatten the column names\n",
    "price_stat_6_month.columns = ['_'.join(x) for x in zip(price_stat_6_month.columns.get_level_values(0), price_stat_6_month.columns.get_level_values(1))]\n",
    "price_stat_6_month = price_stat_6_month.reset_index()\n",
    "# add churn values\n",
    "price_stat_6_month = price_stat_6_month.merge(client[['id','churn']], on=['id'], how='left')\n",
    "# drop ids that are not inclued in the price dataset \n",
    "price_stat_6_month = price_stat_6_month.dropna(subset=['churn']).reset_index(drop=True)\n",
    "# add diff\n",
    "for attr in ['price_off_peak_var','price_off_peak_fix']:\n",
    "    price_stat_6_month[f'diff_Dec_mean_{attr}'] = price[price['id'].isin(price_stat_6_month['id'])].groupby(['id'])[attr].nth(-1).values - price_stat_6_month[f'{attr}_mean']\n",
    "price_stat_6_month.head(5)"
   ]
  },
  {
   "cell_type": "code",
   "execution_count": null,
   "id": "fc591112",
   "metadata": {},
   "outputs": [],
   "source": [
    "plot_bar_chart_with_percent_label(df=price_stat_6_month[price_stat_6_month['diff_Dec_mean_price_off_peak_var']>0], target_variable='churn', gap_label_bar=0.02)"
   ]
  },
  {
   "cell_type": "code",
   "execution_count": null,
   "id": "b2f2cfce",
   "metadata": {},
   "outputs": [],
   "source": [
    "plot_bar_chart_with_percent_label(df=price_stat_6_month[price_stat_6_month['diff_Dec_mean_price_off_peak_var']<=0], target_variable='churn', gap_label_bar=0.02)"
   ]
  },
  {
   "cell_type": "code",
   "execution_count": null,
   "id": "2ae15330",
   "metadata": {},
   "outputs": [],
   "source": [
    "plot_bar_chart_with_percent_label(df=price_stat_6_month[price_stat_6_month['diff_Dec_mean_price_off_peak_fix']>0], target_variable='churn', gap_label_bar=0.02)"
   ]
  },
  {
   "cell_type": "code",
   "execution_count": null,
   "id": "abf279cc",
   "metadata": {},
   "outputs": [],
   "source": [
    "plot_bar_chart_with_percent_label(df=price_stat_6_month[price_stat_6_month['diff_Dec_mean_price_off_peak_fix']>0], target_variable='churn', gap_label_bar=0.02)"
   ]
  },
  {
   "cell_type": "code",
   "execution_count": null,
   "id": "08d52b5e",
   "metadata": {},
   "outputs": [],
   "source": [
    "price_stat_3_month = price[price['price_date']>'2015-09-01'].drop(columns=['price_date']).groupby(['id']).agg({'price_off_peak_var': stat_, 'price_off_peak_fix': stat_,})\n",
    "# flatten the column names\n",
    "price_stat_3_month.columns = ['_'.join(x) for x in zip(price_stat_3_month.columns.get_level_values(0), price_stat_3_month.columns.get_level_values(1))]\n",
    "price_stat_3_month = price_stat_3_month.reset_index()\n",
    "# add churn values\n",
    "price_stat_3_month = price_stat_3_month.merge(client[['id','churn']], on=['id'], how='left')\n",
    "# drop ids that are not inclued in the price dataset \n",
    "price_stat_3_month = price_stat_3_month.dropna(subset=['churn']).reset_index(drop=True)\n",
    "# add diff\n",
    "for attr in ['price_off_peak_var','price_off_peak_fix']:\n",
    "    price_stat_3_month[f'diff_Dec_mean_{attr}'] = price[price['id'].isin(price_stat_3_month['id'])].groupby(['id'])[attr].nth(-1).values - price_stat_3_month[f'{attr}_mean']\n",
    "price_stat_3_month.head(5)"
   ]
  },
  {
   "cell_type": "code",
   "execution_count": null,
   "id": "6d001c37",
   "metadata": {},
   "outputs": [],
   "source": [
    "plot_bar_chart_with_percent_label(df=price_stat_3_month[price_stat_3_month['diff_Dec_mean_price_off_peak_var']>0], target_variable='churn', gap_label_bar=0.02)"
   ]
  },
  {
   "cell_type": "code",
   "execution_count": null,
   "id": "ba86d4ab",
   "metadata": {},
   "outputs": [],
   "source": [
    "plot_bar_chart_with_percent_label(df=price_stat_3_month[price_stat_3_month['diff_Dec_mean_price_off_peak_var']<=0], target_variable='churn', gap_label_bar=0.02)"
   ]
  },
  {
   "cell_type": "code",
   "execution_count": null,
   "id": "d21ac015",
   "metadata": {},
   "outputs": [],
   "source": [
    "plot_bar_chart_with_percent_label(df=price_stat_3_month[price_stat_3_month['diff_Dec_mean_price_off_peak_fix']>0], target_variable='churn', gap_label_bar=0.02)"
   ]
  },
  {
   "cell_type": "code",
   "execution_count": null,
   "id": "ba0f7bf0",
   "metadata": {},
   "outputs": [],
   "source": [
    "plot_bar_chart_with_percent_label(df=price_stat_3_month[price_stat_3_month['diff_Dec_mean_price_off_peak_fix']>0], target_variable='churn', gap_label_bar=0.02)"
   ]
  },
  {
   "cell_type": "code",
   "execution_count": null,
   "id": "04e6a67d",
   "metadata": {},
   "outputs": [],
   "source": []
  },
  {
   "cell_type": "markdown",
   "id": "feb957c3",
   "metadata": {},
   "source": [
    "# Task 3"
   ]
  },
  {
   "cell_type": "code",
   "execution_count": null,
   "id": "05ca18a8",
   "metadata": {},
   "outputs": [],
   "source": [
    "# load packages\n",
    "from sklearn.preprocessing import StandardScaler\n",
    "from sklearn.model_selection import StratifiedKFold\n",
    "from sklearn.linear_model import LogisticRegression\n",
    "from sklearn.ensemble import RandomForestClassifier\n",
    "from sklearn.metrics import precision_score, recall_score, accuracy_score, confusion_matrix, ConfusionMatrixDisplay, classification_report"
   ]
  },
  {
   "cell_type": "code",
   "execution_count": null,
   "id": "f167805b",
   "metadata": {},
   "outputs": [],
   "source": []
  },
  {
   "cell_type": "code",
   "execution_count": null,
   "id": "1fe4de78",
   "metadata": {
    "scrolled": true
   },
   "outputs": [],
   "source": [
    "# drop useless columns\n",
    "train_data = client.copy()\n",
    "train_data['year_modif_prod'] = pd.to_datetime(train_data['date_modif_prod'])\n",
    "train_data['year_renewal'] = pd.to_datetime(train_data['date_renewal'])\n",
    "train_data = train_data.drop(columns=['date_activ','date_end','date_modif_prod','date_renewal'])\n",
    "# \n",
    "has_gas_encoder = LabelEncoder()\n",
    "train_data['has_gas'] = has_gas_encoder.fit_transform(train_data['has_gas'])\n",
    "# add new feature \"diff_dec_jan_off_peak_var\" and \"diff_dec_jan_off_peak_fix\". I just calculate the differnece between last price and first price for each customer.\n",
    "diff_dec_jan_off_peak_var = price.sort_values(by=['price_date']).groupby(['id'])['price_off_peak_var'].nth(-1) - price.sort_values(by=['price_date']).groupby(['id'])['price_off_peak_var'].nth(0)\n",
    "diff_dec_jan_off_peak_var = diff_dec_jan_off_peak_var.reset_index(name='diff_dec_jan_off_peak_var')\n",
    "diff_dec_jan_off_peak_fix = price.sort_values(by=['price_date']).groupby(['id'])['price_off_peak_fix'].nth(-1) - price.sort_values(by=['price_date']).groupby(['id'])['price_off_peak_fix'].nth(0)\n",
    "diff_dec_jan_off_peak_fix = diff_dec_jan_off_peak_fix.reset_index(name='diff_dec_jan_off_peak_fix')\n",
    "train_data = train_data.merge(diff_dec_jan_off_peak_var, on='id', how='left')\n",
    "train_data = train_data.merge(diff_dec_jan_off_peak_fix, on='id', how='left')\n",
    "# also add the above differences of other prices\n",
    "for attr in ['price_peak_var','price_peak_fix','price_mid_peak_var','price_mid_peak_fix']:\n",
    "    diff_dec_jan_temp = price.sort_values(by=['price_date']).groupby(['id'])[attr].nth(-1) - price.sort_values(by=['price_date']).groupby(['id'])[attr].nth(0)\n",
    "    diff_dec_jan_temp = diff_dec_jan_temp.reset_index(name=f'diff_dec_jan_{attr}')\n",
    "    train_data = train_data.merge(diff_dec_jan_temp, on='id', how='left')\n",
    "# add price changing trends\n",
    "train_data = train_data.merge(price_stat[['id','diff_Dec_mean_price_off_peak_var','diff_Dec_mean_price_off_peak_fix',\n",
    "                                          'diff_Dec_mean_price_peak_var','diff_Dec_mean_price_peak_fix',\n",
    "                                          'diff_Dec_mean_price_mid_peak_var','diff_Dec_mean_price_mid_peak_fix',\n",
    "                                        ]], on='id', how='left')\n",
    "\n",
    "#\n",
    "train_data.head()"
   ]
  },
  {
   "cell_type": "code",
   "execution_count": null,
   "id": "b8639df1",
   "metadata": {},
   "outputs": [],
   "source": [
    "X = train_data.drop(columns=['id','churn'])\n",
    "y = train_data['churn']\n",
    "X.shape, y.shape"
   ]
  },
  {
   "cell_type": "code",
   "execution_count": null,
   "id": "122e7849",
   "metadata": {},
   "outputs": [],
   "source": []
  },
  {
   "cell_type": "code",
   "execution_count": null,
   "id": "05078752",
   "metadata": {},
   "outputs": [],
   "source": [
    "pred_train_labels = np.zeros(shape=(X.shape[0], 2))   # pred training labels\n",
    "feature_importance_df = pd.DataFrame(data={'feature_name':X.columns, 'feature_importance':[0]*len(X.columns)})\n",
    "# create cv dataset\n",
    "kfold = StratifiedKFold(n_splits=5, shuffle=True, random_state=29)\n",
    "fold_counter = 1\n",
    "for train_index, test_index in kfold.split(X, y):\n",
    "    X_train, X_test = X.loc[train_index], X.loc[test_index]\n",
    "    y_train, y_test = y[train_index], y[test_index]\n",
    "    # build model\n",
    "    rf = RandomForestClassifier(random_state=56)\n",
    "    # train model\n",
    "    rf.fit(X_train, y_train)\n",
    "    pred_train_labels[test_index] = rf.predict_proba(X_test)\n",
    "    feature_importance_df['feature_importance'] = feature_importance_df['feature_importance'] + (rf.feature_importances_)\n",
    "    print(f\"Fold {fold_counter} Precision {precision_score(y_test, rf.predict(X_test)):.3f} Recall {recall_score(y_test, rf.predict(X_test)):.3f} Accuracy {accuracy_score(y_test, rf.predict(X_test)):.3f}\")\n",
    "    fold_counter = fold_counter + 1\n",
    "# predicted labels\n",
    "pred_y = pred_train_labels.argmax(axis=-1)\n",
    "print(f\"Total  Precision {precision_score(y, pred_y):.3f} Recall {recall_score(y, pred_y):.3f} Accuracy {accuracy_score(y, pred_y):.3f}\")"
   ]
  },
  {
   "cell_type": "code",
   "execution_count": null,
   "id": "7aab75cd",
   "metadata": {},
   "outputs": [],
   "source": [
    "fig = plt.figure(figsize=(12,10))\n",
    "ax = sns.barplot(data=feature_importance_df.sort_values(by=['feature_importance'], ascending=False), y='feature_name', x='feature_importance')"
   ]
  },
  {
   "cell_type": "code",
   "execution_count": null,
   "id": "35ed18f0",
   "metadata": {},
   "outputs": [],
   "source": [
    "print(classification_report(y, pred_y))"
   ]
  },
  {
   "cell_type": "code",
   "execution_count": null,
   "id": "eb7499e3",
   "metadata": {},
   "outputs": [],
   "source": [
    "cm = confusion_matrix(y, pred_y, labels=rf.classes_)\n",
    "disp = ConfusionMatrixDisplay(confusion_matrix=cm, display_labels=rf.classes_)\n",
    "disp.plot()"
   ]
  },
  {
   "cell_type": "code",
   "execution_count": null,
   "id": "865d83aa",
   "metadata": {},
   "outputs": [],
   "source": []
  },
  {
   "cell_type": "code",
   "execution_count": null,
   "id": "34ca6340",
   "metadata": {},
   "outputs": [],
   "source": []
  },
  {
   "cell_type": "code",
   "execution_count": null,
   "id": "0d3f24f3",
   "metadata": {},
   "outputs": [],
   "source": []
  },
  {
   "cell_type": "code",
   "execution_count": null,
   "id": "6be6ad57",
   "metadata": {},
   "outputs": [],
   "source": []
  },
  {
   "cell_type": "code",
   "execution_count": null,
   "id": "00543787",
   "metadata": {},
   "outputs": [],
   "source": []
  },
  {
   "cell_type": "code",
   "execution_count": null,
   "id": "8acb1428",
   "metadata": {},
   "outputs": [],
   "source": []
  },
  {
   "cell_type": "code",
   "execution_count": null,
   "id": "ccbb92b9",
   "metadata": {},
   "outputs": [],
   "source": []
  },
  {
   "cell_type": "code",
   "execution_count": null,
   "id": "cb63bf54",
   "metadata": {},
   "outputs": [],
   "source": []
  },
  {
   "cell_type": "code",
   "execution_count": null,
   "id": "320c54e2",
   "metadata": {},
   "outputs": [],
   "source": []
  },
  {
   "cell_type": "code",
   "execution_count": null,
   "id": "e23d793e",
   "metadata": {},
   "outputs": [],
   "source": []
  },
  {
   "cell_type": "code",
   "execution_count": null,
   "id": "077d5214",
   "metadata": {},
   "outputs": [],
   "source": []
  },
  {
   "cell_type": "code",
   "execution_count": null,
   "id": "a1f5d4fa",
   "metadata": {},
   "outputs": [],
   "source": []
  }
 ],
 "metadata": {
  "kernelspec": {
   "display_name": "Python 3 (ipykernel)",
   "language": "python",
   "name": "python3"
  },
  "language_info": {
   "codemirror_mode": {
    "name": "ipython",
    "version": 3
   },
   "file_extension": ".py",
   "mimetype": "text/x-python",
   "name": "python",
   "nbconvert_exporter": "python",
   "pygments_lexer": "ipython3",
   "version": "3.10.9"
  }
 },
 "nbformat": 4,
 "nbformat_minor": 5
}
